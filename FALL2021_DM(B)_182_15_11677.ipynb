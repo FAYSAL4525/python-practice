{
  "nbformat": 4,
  "nbformat_minor": 0,
  "metadata": {
    "colab": {
      "name": "FALL2021-DM(B)-182-15-11677.ipynb",
      "provenance": [],
      "authorship_tag": "ABX9TyMpd872Gqno4nZgRFbEtCEa",
      "include_colab_link": true
    },
    "kernelspec": {
      "name": "python3",
      "display_name": "Python 3"
    },
    "language_info": {
      "name": "python"
    }
  },
  "cells": [
    {
      "cell_type": "markdown",
      "metadata": {
        "id": "view-in-github",
        "colab_type": "text"
      },
      "source": [
        "<a href=\"https://colab.research.google.com/github/FAYSAL4525/python-practice/blob/main/FALL2021_DM(B)_182_15_11677.ipynb\" target=\"_parent\"><img src=\"https://colab.research.google.com/assets/colab-badge.svg\" alt=\"Open In Colab\"/></a>"
      ]
    },
    {
      "cell_type": "markdown",
      "metadata": {
        "id": "tI2nryWE8i3V"
      },
      "source": [
        "#Python Basics\n"
      ]
    },
    {
      "cell_type": "markdown",
      "metadata": {
        "id": "gpuykf_M9FJ6"
      },
      "source": [
        "#Simple Calculation"
      ]
    },
    {
      "cell_type": "code",
      "metadata": {
        "colab": {
          "base_uri": "https://localhost:8080/"
        },
        "id": "eNyU0_ONAlUr",
        "outputId": "165fa3a3-7b43-4607-808d-52bfc0701972"
      },
      "source": [
        "1+2*3"
      ],
      "execution_count": 3,
      "outputs": [
        {
          "output_type": "execute_result",
          "data": {
            "text/plain": [
              "7"
            ]
          },
          "metadata": {},
          "execution_count": 3
        }
      ]
    },
    {
      "cell_type": "markdown",
      "metadata": {
        "id": "TPYowLd6A9N6"
      },
      "source": [
        "#Power Calculation"
      ]
    },
    {
      "cell_type": "code",
      "metadata": {
        "colab": {
          "base_uri": "https://localhost:8080/"
        },
        "id": "qbcl-Xj2BBpQ",
        "outputId": "1f5fa0e7-e552-4393-e514-b748e20dc4cd"
      },
      "source": [
        "2**3"
      ],
      "execution_count": 4,
      "outputs": [
        {
          "output_type": "execute_result",
          "data": {
            "text/plain": [
              "8"
            ]
          },
          "metadata": {},
          "execution_count": 4
        }
      ]
    },
    {
      "cell_type": "markdown",
      "metadata": {
        "id": "9LJUJ8_NB1gg"
      },
      "source": [
        "#Add String"
      ]
    },
    {
      "cell_type": "code",
      "metadata": {
        "colab": {
          "base_uri": "https://localhost:8080/"
        },
        "id": "GeTO5VQPDPtx",
        "outputId": "20028d0d-91e0-45e4-b476-662a9541e1a8"
      },
      "source": [
        "x = \"Machine\" + \"Learning\"\n",
        "print (x)"
      ],
      "execution_count": 14,
      "outputs": [
        {
          "output_type": "stream",
          "name": "stdout",
          "text": [
            "MachineLearning\n"
          ]
        }
      ]
    },
    {
      "cell_type": "markdown",
      "metadata": {
        "id": "W-ZeOj1VDjBn"
      },
      "source": [
        "#Upper Case"
      ]
    },
    {
      "cell_type": "code",
      "metadata": {
        "colab": {
          "base_uri": "https://localhost:8080/",
          "height": 37
        },
        "id": "z-V7FLocDmy5",
        "outputId": "5cc2a539-ce35-44aa-8a75-eb8c85c8643b"
      },
      "source": [
        "x.upper()"
      ],
      "execution_count": 15,
      "outputs": [
        {
          "output_type": "execute_result",
          "data": {
            "application/vnd.google.colaboratory.intrinsic+json": {
              "type": "string"
            },
            "text/plain": [
              "'MACHINELEARNING'"
            ]
          },
          "metadata": {},
          "execution_count": 15
        }
      ]
    },
    {
      "cell_type": "markdown",
      "metadata": {
        "id": "5kJoVO_iDxGH"
      },
      "source": [
        "#Lower Case"
      ]
    },
    {
      "cell_type": "code",
      "metadata": {
        "colab": {
          "base_uri": "https://localhost:8080/",
          "height": 37
        },
        "id": "Q8ArR3wID1sO",
        "outputId": "de3d056d-cc30-4818-fb7c-88211feb7e82"
      },
      "source": [
        "x.lower()"
      ],
      "execution_count": 16,
      "outputs": [
        {
          "output_type": "execute_result",
          "data": {
            "application/vnd.google.colaboratory.intrinsic+json": {
              "type": "string"
            },
            "text/plain": [
              "'machinelearning'"
            ]
          },
          "metadata": {},
          "execution_count": 16
        }
      ]
    },
    {
      "cell_type": "markdown",
      "metadata": {
        "id": "YuiLs6EkD79p"
      },
      "source": [
        "#Length"
      ]
    },
    {
      "cell_type": "code",
      "metadata": {
        "colab": {
          "base_uri": "https://localhost:8080/"
        },
        "id": "6Y2zim2uEBhy",
        "outputId": "bf259ab0-e45d-43dc-de57-8c5441952a26"
      },
      "source": [
        "len(x)"
      ],
      "execution_count": 17,
      "outputs": [
        {
          "output_type": "execute_result",
          "data": {
            "text/plain": [
              "15"
            ]
          },
          "metadata": {},
          "execution_count": 17
        }
      ]
    },
    {
      "cell_type": "markdown",
      "metadata": {
        "id": "v2kn5Sx-EEcP"
      },
      "source": [
        "#List"
      ]
    },
    {
      "cell_type": "code",
      "metadata": {
        "colab": {
          "base_uri": "https://localhost:8080/"
        },
        "id": "zLc4xovzEGtZ",
        "outputId": "d9d531d6-b35c-41e7-80f1-b8c25933d351"
      },
      "source": [
        "a = 2+3\n",
        "b = a*4\n",
        "c = b-7\n",
        "L = [a,b,c]\n",
        "print(L)"
      ],
      "execution_count": 19,
      "outputs": [
        {
          "output_type": "stream",
          "name": "stdout",
          "text": [
            "[5, 20, 13]\n"
          ]
        }
      ]
    },
    {
      "cell_type": "markdown",
      "metadata": {
        "id": "syJh0pTLEfWy"
      },
      "source": [
        "#Concationg List"
      ]
    },
    {
      "cell_type": "code",
      "metadata": {
        "colab": {
          "base_uri": "https://localhost:8080/"
        },
        "id": "yuXllkPpE-w7",
        "outputId": "afd02955-f499-4c80-c6ea-9337aa0f4003"
      },
      "source": [
        "M = [10,2,\"a\",3.5]\n",
        "N = L + M\n",
        "print(N)"
      ],
      "execution_count": 22,
      "outputs": [
        {
          "output_type": "stream",
          "name": "stdout",
          "text": [
            "[5, 20, 13, 10, 2, 'a', 3.5]\n"
          ]
        }
      ]
    },
    {
      "cell_type": "markdown",
      "metadata": {
        "id": "FpuFDorOFVlY"
      },
      "source": [
        "#List Length"
      ]
    },
    {
      "cell_type": "code",
      "metadata": {
        "colab": {
          "base_uri": "https://localhost:8080/"
        },
        "id": "fNPTC2ICFX33",
        "outputId": "c398f114-217a-41eb-a83a-f5b058172ecb"
      },
      "source": [
        "len(N)"
      ],
      "execution_count": 23,
      "outputs": [
        {
          "output_type": "execute_result",
          "data": {
            "text/plain": [
              "7"
            ]
          },
          "metadata": {},
          "execution_count": 23
        }
      ]
    },
    {
      "cell_type": "markdown",
      "metadata": {
        "id": "K3tSrTKaFb8J"
      },
      "source": [
        "#List Element Print"
      ]
    },
    {
      "cell_type": "code",
      "metadata": {
        "colab": {
          "base_uri": "https://localhost:8080/"
        },
        "id": "yLiZSZtJFg_H",
        "outputId": "9636f4af-8461-4656-ae0d-19dfcd3751ca"
      },
      "source": [
        "N[2]"
      ],
      "execution_count": 24,
      "outputs": [
        {
          "output_type": "execute_result",
          "data": {
            "text/plain": [
              "13"
            ]
          },
          "metadata": {},
          "execution_count": 24
        }
      ]
    },
    {
      "cell_type": "markdown",
      "metadata": {
        "id": "Mv9iGY6gFmjn"
      },
      "source": [
        "#List Element Print By Range"
      ]
    },
    {
      "cell_type": "code",
      "metadata": {
        "colab": {
          "base_uri": "https://localhost:8080/"
        },
        "id": "n1SW3bv7FphC",
        "outputId": "24feae73-03c4-48d3-a3a6-1664ec2fe8b2"
      },
      "source": [
        "N[:3]"
      ],
      "execution_count": 25,
      "outputs": [
        {
          "output_type": "execute_result",
          "data": {
            "text/plain": [
              "[5, 20, 13]"
            ]
          },
          "metadata": {},
          "execution_count": 25
        }
      ]
    },
    {
      "cell_type": "code",
      "metadata": {
        "colab": {
          "base_uri": "https://localhost:8080/"
        },
        "id": "EGY-J9BqFvfJ",
        "outputId": "ea31c1eb-963a-4558-b878-a19b0600ea26"
      },
      "source": [
        "N[:2]"
      ],
      "execution_count": 26,
      "outputs": [
        {
          "output_type": "execute_result",
          "data": {
            "text/plain": [
              "[5, 20]"
            ]
          },
          "metadata": {},
          "execution_count": 26
        }
      ]
    },
    {
      "cell_type": "code",
      "metadata": {
        "colab": {
          "base_uri": "https://localhost:8080/"
        },
        "id": "94oWtnxMFywQ",
        "outputId": "e7b332d8-f015-42f1-b85c-21bf1b9c7b43"
      },
      "source": [
        "N[:6]"
      ],
      "execution_count": 27,
      "outputs": [
        {
          "output_type": "execute_result",
          "data": {
            "text/plain": [
              "[5, 20, 13, 10, 2, 'a']"
            ]
          },
          "metadata": {},
          "execution_count": 27
        }
      ]
    },
    {
      "cell_type": "code",
      "metadata": {
        "colab": {
          "base_uri": "https://localhost:8080/"
        },
        "id": "b08L9mLLF_Ki",
        "outputId": "e973d4ce-c1c1-4e6d-966a-8c9b5aaf1fcd"
      },
      "source": [
        "N[3:]"
      ],
      "execution_count": 28,
      "outputs": [
        {
          "output_type": "execute_result",
          "data": {
            "text/plain": [
              "[10, 2, 'a', 3.5]"
            ]
          },
          "metadata": {},
          "execution_count": 28
        }
      ]
    },
    {
      "cell_type": "code",
      "metadata": {
        "colab": {
          "base_uri": "https://localhost:8080/"
        },
        "id": "grBbv2GjGGL5",
        "outputId": "cae38117-3d8a-48d4-84ae-d97040b5325f"
      },
      "source": [
        "N[3:6]"
      ],
      "execution_count": 29,
      "outputs": [
        {
          "output_type": "execute_result",
          "data": {
            "text/plain": [
              "[10, 2, 'a']"
            ]
          },
          "metadata": {},
          "execution_count": 29
        }
      ]
    },
    {
      "cell_type": "markdown",
      "metadata": {
        "id": "71-XIXk-GaQh"
      },
      "source": [
        "#Conditional Loop"
      ]
    },
    {
      "cell_type": "code",
      "metadata": {
        "colab": {
          "base_uri": "https://localhost:8080/"
        },
        "id": "tbCSZAbDGdbx",
        "outputId": "09933eff-2313-407f-ae8f-baac3745b35f"
      },
      "source": [
        "fruits = ['apples','oranges','pears','bananas']\n",
        "for fruit in fruits:\n",
        "  print (fruit + ' for sale')\n",
        "fruitPrices = {'apples':2.00,'oranges':1.50, 'pears':1.75}\n",
        "for fruit, price in fruitPrices.items():\n",
        "   if price < 2.00:\n",
        "     print ('%s cost %f a pound' % (fruit, price))\n",
        "   else:\n",
        "       print( fruit + ' are too expensive!')"
      ],
      "execution_count": 34,
      "outputs": [
        {
          "output_type": "stream",
          "name": "stdout",
          "text": [
            "apples for sale\n",
            "oranges for sale\n",
            "pears for sale\n",
            "bananas for sale\n",
            "apples are too expensive!\n",
            "oranges cost 1.500000 a pound\n",
            "pears cost 1.750000 a pound\n"
          ]
        }
      ]
    },
    {
      "cell_type": "markdown",
      "metadata": {
        "id": "nkzmA6MzI43j"
      },
      "source": [
        "#Python's list comprehension construction:"
      ]
    },
    {
      "cell_type": "code",
      "metadata": {
        "colab": {
          "base_uri": "https://localhost:8080/"
        },
        "id": "bYsEfLNYJBc6",
        "outputId": "13d0b8fc-4f0d-44e9-d03e-fbbd902bfe17"
      },
      "source": [
        "nums = [1,2,3,4,5,6]\n",
        "plusOneNums = [x+1 for x in nums]\n",
        "print(\"plusOneNums = \",plusOneNums)\n",
        "oddNums = [x for x in nums if x % 2 == 1]\n",
        "print (\"oddNums = \", oddNums )\n",
        "oddNumsPlusOne = [x+1 for x in nums if x % 2 == 1]\n",
        "print(\"oddNumsPlusOn = \",oddNumsPlusOne)"
      ],
      "execution_count": 37,
      "outputs": [
        {
          "output_type": "stream",
          "name": "stdout",
          "text": [
            "plusOneNums =  [2, 3, 4, 5, 6, 7]\n",
            "oddNums =  [1, 3, 5]\n",
            "oddNumsPlusOn =  [2, 4, 6]\n"
          ]
        }
      ]
    },
    {
      "cell_type": "markdown",
      "metadata": {
        "id": "AtlGzSrXKZHW"
      },
      "source": [
        "#Dictionaries"
      ]
    },
    {
      "cell_type": "code",
      "metadata": {
        "colab": {
          "base_uri": "https://localhost:8080/"
        },
        "id": "1dXPJ2alKbnX",
        "outputId": "00a7cbe1-2a4b-40c0-d9f5-659de4bcac9f"
      },
      "source": [
        "studentIds = { 'knuth': 42.0,'turing' : 56.0, 'nash' : 92.0}\n",
        "studentIds['turing']"
      ],
      "execution_count": 39,
      "outputs": [
        {
          "output_type": "execute_result",
          "data": {
            "text/plain": [
              "56.0"
            ]
          },
          "metadata": {},
          "execution_count": 39
        }
      ]
    },
    {
      "cell_type": "markdown",
      "metadata": {
        "id": "pBSMvCZPK3ky"
      },
      "source": [
        "#Adding New Value To Dictionary"
      ]
    },
    {
      "cell_type": "code",
      "metadata": {
        "colab": {
          "base_uri": "https://localhost:8080/"
        },
        "id": "G8lrukgbLBEf",
        "outputId": "86a08ca8-bfb9-495a-9c07-41ee7914515b"
      },
      "source": [
        "studentIds['ada']= 97.0\n",
        "studentIds"
      ],
      "execution_count": 41,
      "outputs": [
        {
          "output_type": "execute_result",
          "data": {
            "text/plain": [
              "{'ada': 97.0, 'knuth': 42.0, 'nash': 92.0, 'turing': 56.0}"
            ]
          },
          "metadata": {},
          "execution_count": 41
        }
      ]
    },
    {
      "cell_type": "markdown",
      "metadata": {
        "id": "5it2mpQBLXrX"
      },
      "source": [
        "#Delting Value From Dictionary"
      ]
    },
    {
      "cell_type": "code",
      "metadata": {
        "colab": {
          "base_uri": "https://localhost:8080/"
        },
        "id": "nZh3nucLLcaP",
        "outputId": "c54bc637-be1b-4964-921f-a13bc9678d93"
      },
      "source": [
        "del studentIds ['knuth']\n",
        "studentIds"
      ],
      "execution_count": 42,
      "outputs": [
        {
          "output_type": "execute_result",
          "data": {
            "text/plain": [
              "{'ada': 97.0, 'nash': 92.0, 'turing': 56.0}"
            ]
          },
          "metadata": {},
          "execution_count": 42
        }
      ]
    },
    {
      "cell_type": "markdown",
      "metadata": {
        "id": "E018khk8LxOu"
      },
      "source": [
        "#Adding Value To List in Dictionary"
      ]
    },
    {
      "cell_type": "code",
      "metadata": {
        "colab": {
          "base_uri": "https://localhost:8080/"
        },
        "id": "7Pb7vhoTL4OQ",
        "outputId": "555c79e2-19e0-420a-bfcd-ce475c54fb46"
      },
      "source": [
        "studentIds ['knuth'] = [42.0, 'forty-two']\n",
        "studentIds"
      ],
      "execution_count": 43,
      "outputs": [
        {
          "output_type": "execute_result",
          "data": {
            "text/plain": [
              "{'ada': 97.0, 'knuth': [42.0, 'forty-two'], 'nash': 92.0, 'turing': 56.0}"
            ]
          },
          "metadata": {},
          "execution_count": 43
        }
      ]
    }
  ]
}